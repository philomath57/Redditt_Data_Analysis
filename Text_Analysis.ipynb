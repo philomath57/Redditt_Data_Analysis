{
 "cells": [
  {
   "cell_type": "code",
   "execution_count": 1,
   "id": "6d660a78",
   "metadata": {},
   "outputs": [],
   "source": [
    "import pandas as pd\n",
    "import matplotlib.pyplot as plt\n",
    "import numpy as np\n",
    "import seaborn as sns"
   ]
  },
  {
   "cell_type": "code",
   "execution_count": 2,
   "id": "1a48a6ac",
   "metadata": {},
   "outputs": [],
   "source": [
    "text_data = pd.read_csv('Train_Data.csv')"
   ]
  },
  {
   "cell_type": "code",
   "execution_count": 3,
   "id": "e22b5a33",
   "metadata": {},
   "outputs": [
    {
     "data": {
      "text/html": [
       "<div>\n",
       "<style scoped>\n",
       "    .dataframe tbody tr th:only-of-type {\n",
       "        vertical-align: middle;\n",
       "    }\n",
       "\n",
       "    .dataframe tbody tr th {\n",
       "        vertical-align: top;\n",
       "    }\n",
       "\n",
       "    .dataframe thead th {\n",
       "        text-align: right;\n",
       "    }\n",
       "</style>\n",
       "<table border=\"1\" class=\"dataframe\">\n",
       "  <thead>\n",
       "    <tr style=\"text-align: right;\">\n",
       "      <th></th>\n",
       "      <th>text</th>\n",
       "      <th>author</th>\n",
       "      <th>controversiality</th>\n",
       "      <th>parent_text</th>\n",
       "      <th>parent_score</th>\n",
       "      <th>parent_votes</th>\n",
       "      <th>parent_author</th>\n",
       "      <th>parent_controversiality</th>\n",
       "      <th>Score</th>\n",
       "    </tr>\n",
       "  </thead>\n",
       "  <tbody>\n",
       "    <tr>\n",
       "      <th>0</th>\n",
       "      <td>i must be retarded i thought it meant con lawl...</td>\n",
       "      <td>['calantus']</td>\n",
       "      <td>0</td>\n",
       "      <td>It's quite unfair to call Hillary Clinton a \"c...</td>\n",
       "      <td>245</td>\n",
       "      <td>245</td>\n",
       "      <td>Whisper</td>\n",
       "      <td>0</td>\n",
       "      <td>-8</td>\n",
       "    </tr>\n",
       "    <tr>\n",
       "      <th>1</th>\n",
       "      <td>DOWNMODDED FOR IRRELEVANCE? ISN'T THAT HOW THI...</td>\n",
       "      <td>['Shadowrose']</td>\n",
       "      <td>0</td>\n",
       "      <td>upmodded for awesome kindness</td>\n",
       "      <td>32</td>\n",
       "      <td>32</td>\n",
       "      <td>b3mus3d</td>\n",
       "      <td>0</td>\n",
       "      <td>-16</td>\n",
       "    </tr>\n",
       "    <tr>\n",
       "      <th>2</th>\n",
       "      <td>THAT WAS SUPPOSED TO MEAN \" BY A PLACE WHERE P...</td>\n",
       "      <td>['NExusRush']</td>\n",
       "      <td>0</td>\n",
       "      <td>What the hell does \"because its by a golf cour...</td>\n",
       "      <td>12</td>\n",
       "      <td>12</td>\n",
       "      <td>mr_jellyneck</td>\n",
       "      <td>0</td>\n",
       "      <td>-7</td>\n",
       "    </tr>\n",
       "    <tr>\n",
       "      <th>3</th>\n",
       "      <td>I THOUGHT EVERYONE DID; ITS FUCKING DELICIOUS :\\</td>\n",
       "      <td>['R0N_SWANS0N']</td>\n",
       "      <td>0</td>\n",
       "      <td>NICE TRY JENNIFER!  I KNOW IT'S YOU AND I KNOW...</td>\n",
       "      <td>117</td>\n",
       "      <td>117</td>\n",
       "      <td>ometzo</td>\n",
       "      <td>0</td>\n",
       "      <td>67</td>\n",
       "    </tr>\n",
       "    <tr>\n",
       "      <th>4</th>\n",
       "      <td>Great work, Zhesbe! I'd give you a raise but y...</td>\n",
       "      <td>['reddums']</td>\n",
       "      <td>0</td>\n",
       "      <td>\"HEY BOSS COME LOOK AT WHAT I DID!\"</td>\n",
       "      <td>1933</td>\n",
       "      <td>1933</td>\n",
       "      <td>Zhesbe</td>\n",
       "      <td>0</td>\n",
       "      <td>1348</td>\n",
       "    </tr>\n",
       "  </tbody>\n",
       "</table>\n",
       "</div>"
      ],
      "text/plain": [
       "                                                text           author  \\\n",
       "0  i must be retarded i thought it meant con lawl...     ['calantus']   \n",
       "1  DOWNMODDED FOR IRRELEVANCE? ISN'T THAT HOW THI...   ['Shadowrose']   \n",
       "2  THAT WAS SUPPOSED TO MEAN \" BY A PLACE WHERE P...    ['NExusRush']   \n",
       "3   I THOUGHT EVERYONE DID; ITS FUCKING DELICIOUS :\\  ['R0N_SWANS0N']   \n",
       "4  Great work, Zhesbe! I'd give you a raise but y...      ['reddums']   \n",
       "\n",
       "   controversiality                                        parent_text  \\\n",
       "0                 0  It's quite unfair to call Hillary Clinton a \"c...   \n",
       "1                 0                      upmodded for awesome kindness   \n",
       "2                 0  What the hell does \"because its by a golf cour...   \n",
       "3                 0  NICE TRY JENNIFER!  I KNOW IT'S YOU AND I KNOW...   \n",
       "4                 0               \"HEY BOSS COME LOOK AT WHAT I DID!\"    \n",
       "\n",
       "   parent_score  parent_votes parent_author  parent_controversiality  Score  \n",
       "0           245           245       Whisper                        0     -8  \n",
       "1            32            32       b3mus3d                        0    -16  \n",
       "2            12            12  mr_jellyneck                        0     -7  \n",
       "3           117           117        ometzo                        0     67  \n",
       "4          1933          1933        Zhesbe                        0   1348  "
      ]
     },
     "execution_count": 3,
     "metadata": {},
     "output_type": "execute_result"
    }
   ],
   "source": [
    "text_data.head()"
   ]
  },
  {
   "cell_type": "code",
   "execution_count": 4,
   "id": "28635938",
   "metadata": {},
   "outputs": [
    {
     "data": {
      "text/plain": [
       "text                       0\n",
       "author                     0\n",
       "controversiality           0\n",
       "parent_text                0\n",
       "parent_score               0\n",
       "parent_votes               0\n",
       "parent_author              0\n",
       "parent_controversiality    0\n",
       "Score                      0\n",
       "dtype: int64"
      ]
     },
     "execution_count": 4,
     "metadata": {},
     "output_type": "execute_result"
    }
   ],
   "source": [
    "text_data.isnull().sum()"
   ]
  },
  {
   "cell_type": "code",
   "execution_count": 5,
   "id": "d847d1a9",
   "metadata": {},
   "outputs": [
    {
     "data": {
      "text/html": [
       "<div>\n",
       "<style scoped>\n",
       "    .dataframe tbody tr th:only-of-type {\n",
       "        vertical-align: middle;\n",
       "    }\n",
       "\n",
       "    .dataframe tbody tr th {\n",
       "        vertical-align: top;\n",
       "    }\n",
       "\n",
       "    .dataframe thead th {\n",
       "        text-align: right;\n",
       "    }\n",
       "</style>\n",
       "<table border=\"1\" class=\"dataframe\">\n",
       "  <thead>\n",
       "    <tr style=\"text-align: right;\">\n",
       "      <th></th>\n",
       "      <th>controversiality</th>\n",
       "      <th>parent_score</th>\n",
       "      <th>parent_votes</th>\n",
       "      <th>parent_controversiality</th>\n",
       "      <th>Score</th>\n",
       "    </tr>\n",
       "  </thead>\n",
       "  <tbody>\n",
       "    <tr>\n",
       "      <th>count</th>\n",
       "      <td>4999.000000</td>\n",
       "      <td>4999.000000</td>\n",
       "      <td>4999.000000</td>\n",
       "      <td>4999.000000</td>\n",
       "      <td>4999.000000</td>\n",
       "    </tr>\n",
       "    <tr>\n",
       "      <th>mean</th>\n",
       "      <td>0.000600</td>\n",
       "      <td>216.714943</td>\n",
       "      <td>216.714943</td>\n",
       "      <td>0.001200</td>\n",
       "      <td>89.810962</td>\n",
       "    </tr>\n",
       "    <tr>\n",
       "      <th>std</th>\n",
       "      <td>0.024492</td>\n",
       "      <td>449.422467</td>\n",
       "      <td>449.422467</td>\n",
       "      <td>0.034627</td>\n",
       "      <td>200.739917</td>\n",
       "    </tr>\n",
       "    <tr>\n",
       "      <th>min</th>\n",
       "      <td>0.000000</td>\n",
       "      <td>-8907.000000</td>\n",
       "      <td>-8907.000000</td>\n",
       "      <td>0.000000</td>\n",
       "      <td>-1658.000000</td>\n",
       "    </tr>\n",
       "    <tr>\n",
       "      <th>25%</th>\n",
       "      <td>0.000000</td>\n",
       "      <td>13.000000</td>\n",
       "      <td>13.000000</td>\n",
       "      <td>0.000000</td>\n",
       "      <td>-10.000000</td>\n",
       "    </tr>\n",
       "    <tr>\n",
       "      <th>50%</th>\n",
       "      <td>0.000000</td>\n",
       "      <td>67.000000</td>\n",
       "      <td>67.000000</td>\n",
       "      <td>0.000000</td>\n",
       "      <td>66.000000</td>\n",
       "    </tr>\n",
       "    <tr>\n",
       "      <th>75%</th>\n",
       "      <td>0.000000</td>\n",
       "      <td>229.000000</td>\n",
       "      <td>229.000000</td>\n",
       "      <td>0.000000</td>\n",
       "      <td>115.500000</td>\n",
       "    </tr>\n",
       "    <tr>\n",
       "      <th>max</th>\n",
       "      <td>1.000000</td>\n",
       "      <td>5619.000000</td>\n",
       "      <td>5619.000000</td>\n",
       "      <td>1.000000</td>\n",
       "      <td>3133.000000</td>\n",
       "    </tr>\n",
       "  </tbody>\n",
       "</table>\n",
       "</div>"
      ],
      "text/plain": [
       "       controversiality  parent_score  parent_votes  parent_controversiality  \\\n",
       "count       4999.000000   4999.000000   4999.000000              4999.000000   \n",
       "mean           0.000600    216.714943    216.714943                 0.001200   \n",
       "std            0.024492    449.422467    449.422467                 0.034627   \n",
       "min            0.000000  -8907.000000  -8907.000000                 0.000000   \n",
       "25%            0.000000     13.000000     13.000000                 0.000000   \n",
       "50%            0.000000     67.000000     67.000000                 0.000000   \n",
       "75%            0.000000    229.000000    229.000000                 0.000000   \n",
       "max            1.000000   5619.000000   5619.000000                 1.000000   \n",
       "\n",
       "             Score  \n",
       "count  4999.000000  \n",
       "mean     89.810962  \n",
       "std     200.739917  \n",
       "min   -1658.000000  \n",
       "25%     -10.000000  \n",
       "50%      66.000000  \n",
       "75%     115.500000  \n",
       "max    3133.000000  "
      ]
     },
     "execution_count": 5,
     "metadata": {},
     "output_type": "execute_result"
    }
   ],
   "source": [
    "text_data.describe()"
   ]
  },
  {
   "cell_type": "code",
   "execution_count": 6,
   "id": "aa312bf5",
   "metadata": {},
   "outputs": [
    {
     "name": "stdout",
     "output_type": "stream",
     "text": [
      "<class 'pandas.core.frame.DataFrame'>\n",
      "RangeIndex: 4999 entries, 0 to 4998\n",
      "Data columns (total 9 columns):\n",
      " #   Column                   Non-Null Count  Dtype \n",
      "---  ------                   --------------  ----- \n",
      " 0   text                     4999 non-null   object\n",
      " 1   author                   4999 non-null   object\n",
      " 2   controversiality         4999 non-null   int64 \n",
      " 3   parent_text              4999 non-null   object\n",
      " 4   parent_score             4999 non-null   int64 \n",
      " 5   parent_votes             4999 non-null   int64 \n",
      " 6   parent_author            4999 non-null   object\n",
      " 7   parent_controversiality  4999 non-null   int64 \n",
      " 8   Score                    4999 non-null   int64 \n",
      "dtypes: int64(5), object(4)\n",
      "memory usage: 351.6+ KB\n"
     ]
    }
   ],
   "source": [
    "text_data.info()"
   ]
  },
  {
   "cell_type": "code",
   "execution_count": 7,
   "id": "3848e881",
   "metadata": {},
   "outputs": [
    {
     "name": "stderr",
     "output_type": "stream",
     "text": [
      "C:\\Users\\mdfai\\anaconda3\\lib\\site-packages\\seaborn\\distributions.py:2619: FutureWarning: `distplot` is a deprecated function and will be removed in a future version. Please adapt your code to use either `displot` (a figure-level function with similar flexibility) or `histplot` (an axes-level function for histograms).\n",
      "  warnings.warn(msg, FutureWarning)\n"
     ]
    },
    {
     "data": {
      "text/plain": [
       "<AxesSubplot:xlabel='Score', ylabel='Density'>"
      ]
     },
     "execution_count": 7,
     "metadata": {},
     "output_type": "execute_result"
    },
    {
     "data": {
      "image/png": "[encoded data removed]",
      "text/plain": [
       "<Figure size 432x288 with 1 Axes>"
      ]
     },
     "metadata": {
      "needs_background": "light"
     },
     "output_type": "display_data"
    }
   ],
   "source": [
    "sns.distplot(text_data['Score'])"
   ]
  },
  {
   "cell_type": "code",
   "execution_count": 8,
   "id": "7ef24f5c",
   "metadata": {},
   "outputs": [],
   "source": [
    "text_data['text'] = text_data['text'].apply(lambda x: x.lower()) # Lowering down the case of the text"
   ]
  },
  {
   "cell_type": "code",
   "execution_count": 9,
   "id": "5d973e57",
   "metadata": {},
   "outputs": [
    {
     "data": {
      "text/html": [
       "<div>\n",
       "<style scoped>\n",
       "    .dataframe tbody tr th:only-of-type {\n",
       "        vertical-align: middle;\n",
       "    }\n",
       "\n",
       "    .dataframe tbody tr th {\n",
       "        vertical-align: top;\n",
       "    }\n",
       "\n",
       "    .dataframe thead th {\n",
       "        text-align: right;\n",
       "    }\n",
       "</style>\n",
       "<table border=\"1\" class=\"dataframe\">\n",
       "  <thead>\n",
       "    <tr style=\"text-align: right;\">\n",
       "      <th></th>\n",
       "      <th>text</th>\n",
       "      <th>author</th>\n",
       "      <th>controversiality</th>\n",
       "      <th>parent_text</th>\n",
       "      <th>parent_score</th>\n",
       "      <th>parent_votes</th>\n",
       "      <th>parent_author</th>\n",
       "      <th>parent_controversiality</th>\n",
       "      <th>Score</th>\n",
       "    </tr>\n",
       "  </thead>\n",
       "  <tbody>\n",
       "    <tr>\n",
       "      <th>0</th>\n",
       "      <td>i must be retarded i thought it meant con lawl...</td>\n",
       "      <td>['calantus']</td>\n",
       "      <td>0</td>\n",
       "      <td>It's quite unfair to call Hillary Clinton a \"c...</td>\n",
       "      <td>245</td>\n",
       "      <td>245</td>\n",
       "      <td>Whisper</td>\n",
       "      <td>0</td>\n",
       "      <td>-8</td>\n",
       "    </tr>\n",
       "    <tr>\n",
       "      <th>1</th>\n",
       "      <td>downmodded for irrelevance? isn't that how thi...</td>\n",
       "      <td>['Shadowrose']</td>\n",
       "      <td>0</td>\n",
       "      <td>upmodded for awesome kindness</td>\n",
       "      <td>32</td>\n",
       "      <td>32</td>\n",
       "      <td>b3mus3d</td>\n",
       "      <td>0</td>\n",
       "      <td>-16</td>\n",
       "    </tr>\n",
       "    <tr>\n",
       "      <th>2</th>\n",
       "      <td>that was supposed to mean \" by a place where p...</td>\n",
       "      <td>['NExusRush']</td>\n",
       "      <td>0</td>\n",
       "      <td>What the hell does \"because its by a golf cour...</td>\n",
       "      <td>12</td>\n",
       "      <td>12</td>\n",
       "      <td>mr_jellyneck</td>\n",
       "      <td>0</td>\n",
       "      <td>-7</td>\n",
       "    </tr>\n",
       "    <tr>\n",
       "      <th>3</th>\n",
       "      <td>i thought everyone did; its fucking delicious :\\</td>\n",
       "      <td>['R0N_SWANS0N']</td>\n",
       "      <td>0</td>\n",
       "      <td>NICE TRY JENNIFER!  I KNOW IT'S YOU AND I KNOW...</td>\n",
       "      <td>117</td>\n",
       "      <td>117</td>\n",
       "      <td>ometzo</td>\n",
       "      <td>0</td>\n",
       "      <td>67</td>\n",
       "    </tr>\n",
       "    <tr>\n",
       "      <th>4</th>\n",
       "      <td>great work, zhesbe! i'd give you a raise but y...</td>\n",
       "      <td>['reddums']</td>\n",
       "      <td>0</td>\n",
       "      <td>\"HEY BOSS COME LOOK AT WHAT I DID!\"</td>\n",
       "      <td>1933</td>\n",
       "      <td>1933</td>\n",
       "      <td>Zhesbe</td>\n",
       "      <td>0</td>\n",
       "      <td>1348</td>\n",
       "    </tr>\n",
       "  </tbody>\n",
       "</table>\n",
       "</div>"
      ],
      "text/plain": [
       "                                                text           author  \\\n",
       "0  i must be retarded i thought it meant con lawl...     ['calantus']   \n",
       "1  downmodded for irrelevance? isn't that how thi...   ['Shadowrose']   \n",
       "2  that was supposed to mean \" by a place where p...    ['NExusRush']   \n",
       "3   i thought everyone did; its fucking delicious :\\  ['R0N_SWANS0N']   \n",
       "4  great work, zhesbe! i'd give you a raise but y...      ['reddums']   \n",
       "\n",
       "   controversiality                                        parent_text  \\\n",
       "0                 0  It's quite unfair to call Hillary Clinton a \"c...   \n",
       "1                 0                      upmodded for awesome kindness   \n",
       "2                 0  What the hell does \"because its by a golf cour...   \n",
       "3                 0  NICE TRY JENNIFER!  I KNOW IT'S YOU AND I KNOW...   \n",
       "4                 0               \"HEY BOSS COME LOOK AT WHAT I DID!\"    \n",
       "\n",
       "   parent_score  parent_votes parent_author  parent_controversiality  Score  \n",
       "0           245           245       Whisper                        0     -8  \n",
       "1            32            32       b3mus3d                        0    -16  \n",
       "2            12            12  mr_jellyneck                        0     -7  \n",
       "3           117           117        ometzo                        0     67  \n",
       "4          1933          1933        Zhesbe                        0   1348  "
      ]
     },
     "execution_count": 9,
     "metadata": {},
     "output_type": "execute_result"
    }
   ],
   "source": [
    "text_data.head()"
   ]
  },
  {
   "cell_type": "code",
   "execution_count": 10,
   "id": "cdf16f5b",
   "metadata": {},
   "outputs": [],
   "source": [
    "import string\n",
    "def punctuation_remove(text_data):\n",
    "    data_rev = ''.join([i for i in text_data if i not in string.punctuation])\n",
    "    return data_rev"
   ]
  },
  {
   "cell_type": "code",
   "execution_count": 11,
   "id": "9a58630a",
   "metadata": {},
   "outputs": [],
   "source": [
    "text_data['text'] = text_data['text'].apply(lambda x: punctuation_remove(x))"
   ]
  },
  {
   "cell_type": "code",
   "execution_count": 12,
   "id": "b0e4f599",
   "metadata": {},
   "outputs": [
    {
     "data": {
      "text/html": [
       "<div>\n",
       "<style scoped>\n",
       "    .dataframe tbody tr th:only-of-type {\n",
       "        vertical-align: middle;\n",
       "    }\n",
       "\n",
       "    .dataframe tbody tr th {\n",
       "        vertical-align: top;\n",
       "    }\n",
       "\n",
       "    .dataframe thead th {\n",
       "        text-align: right;\n",
       "    }\n",
       "</style>\n",
       "<table border=\"1\" class=\"dataframe\">\n",
       "  <thead>\n",
       "    <tr style=\"text-align: right;\">\n",
       "      <th></th>\n",
       "      <th>text</th>\n",
       "      <th>author</th>\n",
       "      <th>controversiality</th>\n",
       "      <th>parent_text</th>\n",
       "      <th>parent_score</th>\n",
       "      <th>parent_votes</th>\n",
       "      <th>parent_author</th>\n",
       "      <th>parent_controversiality</th>\n",
       "      <th>Score</th>\n",
       "    </tr>\n",
       "  </thead>\n",
       "  <tbody>\n",
       "    <tr>\n",
       "      <th>0</th>\n",
       "      <td>i must be retarded i thought it meant con lawl...</td>\n",
       "      <td>['calantus']</td>\n",
       "      <td>0</td>\n",
       "      <td>It's quite unfair to call Hillary Clinton a \"c...</td>\n",
       "      <td>245</td>\n",
       "      <td>245</td>\n",
       "      <td>Whisper</td>\n",
       "      <td>0</td>\n",
       "      <td>-8</td>\n",
       "    </tr>\n",
       "    <tr>\n",
       "      <th>1</th>\n",
       "      <td>downmodded for irrelevance isnt that how this ...</td>\n",
       "      <td>['Shadowrose']</td>\n",
       "      <td>0</td>\n",
       "      <td>upmodded for awesome kindness</td>\n",
       "      <td>32</td>\n",
       "      <td>32</td>\n",
       "      <td>b3mus3d</td>\n",
       "      <td>0</td>\n",
       "      <td>-16</td>\n",
       "    </tr>\n",
       "    <tr>\n",
       "      <th>2</th>\n",
       "      <td>that was supposed to mean  by a place where pe...</td>\n",
       "      <td>['NExusRush']</td>\n",
       "      <td>0</td>\n",
       "      <td>What the hell does \"because its by a golf cour...</td>\n",
       "      <td>12</td>\n",
       "      <td>12</td>\n",
       "      <td>mr_jellyneck</td>\n",
       "      <td>0</td>\n",
       "      <td>-7</td>\n",
       "    </tr>\n",
       "    <tr>\n",
       "      <th>3</th>\n",
       "      <td>i thought everyone did its fucking delicious</td>\n",
       "      <td>['R0N_SWANS0N']</td>\n",
       "      <td>0</td>\n",
       "      <td>NICE TRY JENNIFER!  I KNOW IT'S YOU AND I KNOW...</td>\n",
       "      <td>117</td>\n",
       "      <td>117</td>\n",
       "      <td>ometzo</td>\n",
       "      <td>0</td>\n",
       "      <td>67</td>\n",
       "    </tr>\n",
       "    <tr>\n",
       "      <th>4</th>\n",
       "      <td>great work zhesbe id give you a raise but you ...</td>\n",
       "      <td>['reddums']</td>\n",
       "      <td>0</td>\n",
       "      <td>\"HEY BOSS COME LOOK AT WHAT I DID!\"</td>\n",
       "      <td>1933</td>\n",
       "      <td>1933</td>\n",
       "      <td>Zhesbe</td>\n",
       "      <td>0</td>\n",
       "      <td>1348</td>\n",
       "    </tr>\n",
       "  </tbody>\n",
       "</table>\n",
       "</div>"
      ],
      "text/plain": [
       "                                                text           author  \\\n",
       "0  i must be retarded i thought it meant con lawl...     ['calantus']   \n",
       "1  downmodded for irrelevance isnt that how this ...   ['Shadowrose']   \n",
       "2  that was supposed to mean  by a place where pe...    ['NExusRush']   \n",
       "3      i thought everyone did its fucking delicious   ['R0N_SWANS0N']   \n",
       "4  great work zhesbe id give you a raise but you ...      ['reddums']   \n",
       "\n",
       "   controversiality                                        parent_text  \\\n",
       "0                 0  It's quite unfair to call Hillary Clinton a \"c...   \n",
       "1                 0                      upmodded for awesome kindness   \n",
       "2                 0  What the hell does \"because its by a golf cour...   \n",
       "3                 0  NICE TRY JENNIFER!  I KNOW IT'S YOU AND I KNOW...   \n",
       "4                 0               \"HEY BOSS COME LOOK AT WHAT I DID!\"    \n",
       "\n",
       "   parent_score  parent_votes parent_author  parent_controversiality  Score  \n",
       "0           245           245       Whisper                        0     -8  \n",
       "1            32            32       b3mus3d                        0    -16  \n",
       "2            12            12  mr_jellyneck                        0     -7  \n",
       "3           117           117        ometzo                        0     67  \n",
       "4          1933          1933        Zhesbe                        0   1348  "
      ]
     },
     "execution_count": 12,
     "metadata": {},
     "output_type": "execute_result"
    }
   ],
   "source": [
    "text_data.head()"
   ]
  },
  {
   "cell_type": "code",
   "execution_count": 13,
   "id": "5093b2ba",
   "metadata": {},
   "outputs": [
    {
     "name": "stderr",
     "output_type": "stream",
     "text": [
      "C:\\Users\\mdfai\\AppData\\Local\\Temp/ipykernel_16680/3449065626.py:1: FutureWarning: The default value of regex will change from True to False in a future version.\n",
      "  text_data['text'] = text_data['text'].str.replace('[^\\w\\s]','')\n"
     ]
    }
   ],
   "source": [
    "text_data['text'] = text_data['text'].str.replace('[^\\w\\s]','')"
   ]
  },
  {
   "cell_type": "code",
   "execution_count": 14,
   "id": "e86575b2",
   "metadata": {},
   "outputs": [
    {
     "name": "stderr",
     "output_type": "stream",
     "text": [
      "C:\\Users\\mdfai\\AppData\\Local\\Temp/ipykernel_16680/698195876.py:1: FutureWarning: The default value of regex will change from True to False in a future version.\n",
      "  text_data['text'] = text_data['text'].str.replace('\\d','')\n"
     ]
    }
   ],
   "source": [
    "text_data['text'] = text_data['text'].str.replace('\\d','')"
   ]
  },
  {
   "cell_type": "code",
   "execution_count": 15,
   "id": "79f8c497",
   "metadata": {},
   "outputs": [],
   "source": [
    "from nltk.corpus import stopwords\n",
    "sw = stopwords.words('english')"
   ]
  },
  {
   "cell_type": "code",
   "execution_count": 16,
   "id": "c055fba6",
   "metadata": {},
   "outputs": [],
   "source": [
    "text_data['text'] = text_data['text'].apply(lambda x: ' '.join(i for i in x.split() if i not in sw))"
   ]
  },
  {
   "cell_type": "code",
   "execution_count": 17,
   "id": "0cbe5670",
   "metadata": {},
   "outputs": [],
   "source": [
    "from nltk.stem import WordNetLemmatizer\n",
    "word = WordNetLemmatizer()"
   ]
  },
  {
   "cell_type": "code",
   "execution_count": 18,
   "id": "a8155659",
   "metadata": {},
   "outputs": [],
   "source": [
    "text_data['text'] = text_data['text'].apply(lambda x: word.lemmatize(x))"
   ]
  },
  {
   "cell_type": "code",
   "execution_count": 19,
   "id": "a937b5ca",
   "metadata": {},
   "outputs": [
    {
     "data": {
      "text/plain": [
       "0       must retarded thought meant con lawl oh well work\n",
       "1                       downmodded irrelevance isnt works\n",
       "2       supposed mean place people undoubtedly snake b...\n",
       "3                      thought everyone fucking delicious\n",
       "4            great work zhesbe id give raise seem handled\n",
       "                              ...                        \n",
       "4994    dying words father son one day man approach se...\n",
       "4995    catering everyone impossible simultaneous need...\n",
       "4996                             rabblerabblerabblerabble\n",
       "4997    little known fact viola french word stringed i...\n",
       "4998                            dont think aint christian\n",
       "Name: text, Length: 4999, dtype: object"
      ]
     },
     "execution_count": 19,
     "metadata": {},
     "output_type": "execute_result"
    }
   ],
   "source": [
    "text_data['text']"
   ]
  },
  {
   "cell_type": "code",
   "execution_count": 24,
   "id": "20f978a5",
   "metadata": {},
   "outputs": [],
   "source": [
    "from sklearn.feature_extraction.text import CountVectorizer"
   ]
  },
  {
   "cell_type": "code",
   "execution_count": 25,
   "id": "9bcb25dd",
   "metadata": {},
   "outputs": [],
   "source": [
    "cv = CountVectorizer()"
   ]
  },
  {
   "cell_type": "code",
   "execution_count": 26,
   "id": "39701da3",
   "metadata": {},
   "outputs": [],
   "source": [
    "x = cv.fit_transform(text_data['text'])"
   ]
  },
  {
   "cell_type": "code",
   "execution_count": 27,
   "id": "81a80316",
   "metadata": {},
   "outputs": [],
   "source": [
    "y = text_data['Score']"
   ]
  },
  {
   "cell_type": "code",
   "execution_count": 28,
   "id": "14ef15eb",
   "metadata": {},
   "outputs": [],
   "source": [
    "from sklearn.model_selection import train_test_split\n",
    "from sklearn.linear_model import LinearRegression\n",
    "from sklearn.metrics import mean_squared_error"
   ]
  },
  {
   "cell_type": "code",
   "execution_count": 29,
   "id": "275e00d5",
   "metadata": {},
   "outputs": [],
   "source": [
    "x_train,x_text,y_train,y_test = train_test_split(x,y,test_size=0.3)"
   ]
  },
  {
   "cell_type": "code",
   "execution_count": 31,
   "id": "1f5a79bc",
   "metadata": {},
   "outputs": [],
   "source": [
    "lr = LinearRegression()"
   ]
  },
  {
   "cell_type": "code",
   "execution_count": 32,
   "id": "22c26ee4",
   "metadata": {},
   "outputs": [
    {
     "data": {
      "text/plain": [
       "LinearRegression()"
      ]
     },
     "execution_count": 32,
     "metadata": {},
     "output_type": "execute_result"
    }
   ],
   "source": [
    "lr.fit(x_train,y_train)"
   ]
  },
  {
   "cell_type": "code",
   "execution_count": 34,
   "id": "f380a5c8",
   "metadata": {},
   "outputs": [],
   "source": [
    "y_pred = lr.predict(x_text)"
   ]
  },
  {
   "cell_type": "code",
   "execution_count": 36,
   "id": "2fe65992",
   "metadata": {},
   "outputs": [
    {
     "data": {
      "text/plain": [
       "2184650.3700443637"
      ]
     },
     "execution_count": 36,
     "metadata": {},
     "output_type": "execute_result"
    }
   ],
   "source": [
    "mean_squared_error(y_test,y_pred)"
   ]
  },
  {
   "cell_type": "code",
   "execution_count": null,
   "id": "1102bd9b",
   "metadata": {},
   "outputs": [],
   "source": []
  }
 ],
 "metadata": {
  "kernelspec": {
   "display_name": "Python 3 (ipykernel)",
   "language": "python",
   "name": "python3"
  },
  "language_info": {
   "codemirror_mode": {
    "name": "ipython",
    "version": 3
   },
   "file_extension": ".py",
   "mimetype": "text/x-python",
   "name": "python",
   "nbconvert_exporter": "python",
   "pygments_lexer": "ipython3",
   "version": "3.9.7"
  }
 },
 "nbformat": 4,
 "nbformat_minor": 5
}
